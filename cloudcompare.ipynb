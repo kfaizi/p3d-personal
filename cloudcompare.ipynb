{
 "cells": [
  {
   "cell_type": "code",
   "execution_count": 17,
   "metadata": {},
   "outputs": [],
   "source": [
    "import numpy as np"
   ]
  },
  {
   "cell_type": "code",
   "execution_count": 68,
   "metadata": {},
   "outputs": [],
   "source": [
    "raw = \"\"\"-0.520534813404 0.775900900364 0.356400430202 104.840873718262\n",
    "-0.106467388570 -0.473133087158 0.874533951283 115.565254211426\n",
    "0.847176492214 0.417280375957 0.328890323639 372.423950195313\n",
    "0.000000000000 0.000000000000 0.000000000000 1.000000000000\"\"\""
   ]
  },
  {
   "cell_type": "code",
   "execution_count": 69,
   "metadata": {},
   "outputs": [
    {
     "name": "stdout",
     "output_type": "stream",
     "text": [
      "[0.356400430202, 0.874533951283, 0.328890323639, 0.0]\n"
     ]
    }
   ],
   "source": [
    "rows = raw.split(\"\\n\")\n",
    "rows[0] = rows[0].strip()\n",
    "data = []\n",
    "for row in rows:\n",
    "    data.append(list(map(float, row.split())))\n",
    "data = [data[0], data[1], data[2], data[3]]\n",
    "x = np.array([0.0,0.0,1.0,0.0])\n",
    "A = np.array(data)\n",
    "#print(A)\n",
    "#print(\"\\n\")\n",
    "b = A @ x\n",
    "print(b.tolist())"
   ]
  },
  {
   "cell_type": "markdown",
   "metadata": {},
   "source": [
    "## angles"
   ]
  },
  {
   "cell_type": "code",
   "execution_count": 70,
   "metadata": {},
   "outputs": [],
   "source": [
    "import math\n",
    "def dotproduct(v1, v2):\n",
    "    return sum((a*b) for a, b in zip(v1, v2))\n",
    "\n",
    "def length(v):\n",
    "    return math.sqrt(dotproduct(v, v))\n",
    "\n",
    "def angle(v1, v2):\n",
    "    return math.acos(dotproduct(v1, v2) / (length(v1) * length(v2)))"
   ]
  },
  {
   "cell_type": "code",
   "execution_count": 113,
   "metadata": {},
   "outputs": [],
   "source": [
    "ax1 = [0.832757532597, 0.068306848407, -0.549408018589, 0.0]\n",
    "ax2 = [0.813454091549, -0.066603332758, -0.577803194523, 0.0]"
   ]
  },
  {
   "cell_type": "code",
   "execution_count": 114,
   "metadata": {},
   "outputs": [
    {
     "data": {
      "text/plain": [
       "7.982649563393909"
      ]
     },
     "execution_count": 114,
     "metadata": {},
     "output_type": "execute_result"
    }
   ],
   "source": [
    "np.degrees(angle(ax1, ax2))"
   ]
  },
  {
   "cell_type": "code",
   "execution_count": null,
   "metadata": {},
   "outputs": [],
   "source": []
  }
 ],
 "metadata": {
  "kernelspec": {
   "display_name": "Python 3",
   "language": "python",
   "name": "python3"
  },
  "language_info": {
   "codemirror_mode": {
    "name": "ipython",
    "version": 3
   },
   "file_extension": ".py",
   "mimetype": "text/x-python",
   "name": "python",
   "nbconvert_exporter": "python",
   "pygments_lexer": "ipython3",
   "version": "3.6.10"
  }
 },
 "nbformat": 4,
 "nbformat_minor": 4
}
